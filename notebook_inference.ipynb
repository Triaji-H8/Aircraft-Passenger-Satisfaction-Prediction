{
 "cells": [
  {
   "cell_type": "markdown",
   "id": "213947a4",
   "metadata": {},
   "source": [
    "## Import Libraries"
   ]
  },
  {
   "cell_type": "code",
   "execution_count": 1,
   "id": "b1940340",
   "metadata": {},
   "outputs": [],
   "source": [
    "import matplotlib.pyplot as plt\n",
    "import joblib\n",
    "import numpy as np\n",
    "import pandas as pd\n",
    "import cloudpickle\n",
    "import gzip\n",
    "from sklearn.pipeline import Pipeline\n",
    "from sklearn.compose import ColumnTransformer, make_column_selector\n",
    "from sklearn.preprocessing import OneHotEncoder, StandardScaler, FunctionTransformer\n",
    "from sklearn.impute import SimpleImputer\n",
    "from sklearn.neighbors import KNeighborsClassifier\n",
    "from sklearn.svm import SVC\n",
    "from sklearn.tree import DecisionTreeClassifier\n",
    "from sklearn.ensemble import RandomForestClassifier, GradientBoostingClassifier\n",
    "from sklearn.model_selection import cross_val_score, RandomizedSearchCV\n",
    "from sklearn.metrics import accuracy_score, precision_score, recall_score, f1_score, confusion_matrix, ConfusionMatrixDisplay\n",
    "\n",
    "import warnings\n",
    "warnings.filterwarnings('ignore')"
   ]
  },
  {
   "cell_type": "markdown",
   "id": "a753244f",
   "metadata": {},
   "source": [
    "## Load Pipeline"
   ]
  },
  {
   "cell_type": "code",
   "execution_count": 2,
   "id": "f9137e18",
   "metadata": {},
   "outputs": [
    {
     "name": "stdout",
     "output_type": "stream",
     "text": [
      "Pipeline berhasil dimuat!\n"
     ]
    }
   ],
   "source": [
    "# Load pipeline dari file .pkl\n",
    "with gzip.open('rf_pipeline_model.pkl.gz', 'rb') as f:\n",
    "    pipeline = cloudpickle.load(f)\n",
    "\n",
    "print(\"Pipeline berhasil dimuat!\")"
   ]
  },
  {
   "cell_type": "markdown",
   "id": "ac7a6455",
   "metadata": {},
   "source": [
    "## Inference"
   ]
  },
  {
   "cell_type": "code",
   "execution_count": 3,
   "id": "0acfbe53",
   "metadata": {},
   "outputs": [
    {
     "name": "stdout",
     "output_type": "stream",
     "text": [
      "Prediksi: satisfied\n"
     ]
    }
   ],
   "source": [
    "# Contoh data mentah (hanya 1 penumpang)\n",
    "data_baru = pd.DataFrame([{\n",
    "    \"id\": 99999,\n",
    "    \"Unnamed: 0\": 0,\n",
    "    \"Gender\": \"Male\",\n",
    "    \"Customer Type\": \"Loyal Customer\",\n",
    "    \"Age\": 35,\n",
    "    \"Type of Travel\": \"Business travel\",\n",
    "    \"Class\": \"Business\",\n",
    "    \"Flight Distance\": 1500,\n",
    "    \"Inflight wifi service\": 3,\n",
    "    \"Departure/Arrival time convenient\": 4,\n",
    "    \"Ease of Online booking\": 4,\n",
    "    \"Gate location\": 3,\n",
    "    \"Food and drink\": 4,\n",
    "    \"Online boarding\": 5,\n",
    "    \"Seat comfort\": 4,\n",
    "    \"Inflight entertainment\": 3,\n",
    "    \"On-board service\": 5,\n",
    "    \"Leg room service\": 4,\n",
    "    \"Baggage handling\": 5,\n",
    "    \"Checkin service\": 4,\n",
    "    \"Inflight service\": 5,\n",
    "    \"Cleanliness\": 4,\n",
    "    \"Departure Delay in Minutes\": 0,\n",
    "    \"Arrival Delay in Minutes\": 0\n",
    "}])\n",
    "\n",
    "prediksi = pipeline.predict(data_baru)\n",
    "print(\"Prediksi:\", prediksi[0])"
   ]
  },
  {
   "cell_type": "markdown",
   "id": "4bd5f482",
   "metadata": {},
   "source": [
    "## Kesimpulan Model Inference\n",
    "\n",
    "Model Random Forest yang telah melalui tahap hyperparameter tuning dan disimpan dalam bentuk pipeline berhasil digunakan untuk melakukan prediksi pada data mentah penumpang baru.  \n",
    "\n",
    "Pada pengujian dengan satu sampel data penumpang, model memprediksi bahwa penumpang tersebut **satisfied** terhadap layanan maskapai. Proses ini mengonfirmasi bahwa pipeline mampu melakukan seluruh tahapan *feature engineering*, *preprocessing*, dan prediksi secara otomatis tanpa perlu mengulang proses di notebook training.  \n",
    "\n",
    "Dengan demikian, **model siap digunakan untuk melakukan prediksi** baik terhadap satu sampel maupun data dalam jumlah besar (*batch inference*), selama format kolom sesuai dengan data mentah yang digunakan saat training."
   ]
  }
 ],
 "metadata": {
  "kernelspec": {
   "display_name": "h8_env",
   "language": "python",
   "name": "python3"
  },
  "language_info": {
   "codemirror_mode": {
    "name": "ipython",
    "version": 3
   },
   "file_extension": ".py",
   "mimetype": "text/x-python",
   "name": "python",
   "nbconvert_exporter": "python",
   "pygments_lexer": "ipython3",
   "version": "3.9.23"
  }
 },
 "nbformat": 4,
 "nbformat_minor": 5
}
